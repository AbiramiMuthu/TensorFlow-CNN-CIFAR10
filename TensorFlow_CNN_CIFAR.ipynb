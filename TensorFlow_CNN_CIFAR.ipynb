{
  "nbformat": 4,
  "nbformat_minor": 0,
  "metadata": {
    "colab": {
      "name": "TensorFlow-CNN-CIFAR.ipynb",
      "provenance": [],
      "collapsed_sections": [],
      "authorship_tag": "ABX9TyNIJBM7lYXtR19/9EaLoy4U",
      "include_colab_link": true
    },
    "kernelspec": {
      "name": "python3",
      "display_name": "Python 3"
    },
    "language_info": {
      "name": "python"
    },
    "accelerator": "TPU"
  },
  "cells": [
    {
      "cell_type": "markdown",
      "metadata": {
        "id": "view-in-github",
        "colab_type": "text"
      },
      "source": [
        "<a href=\"https://colab.research.google.com/github/AbiramiMuthu/Tensorflow-CNN-CIFAR10/blob/main/TensorFlow_CNN_CIFAR.ipynb\" target=\"_parent\"><img src=\"https://colab.research.google.com/assets/colab-badge.svg\" alt=\"Open In Colab\"/></a>"
      ]
    },
    {
      "cell_type": "markdown",
      "metadata": {
        "id": "zIpcFB8_rGw_"
      },
      "source": [
        "## Download the mlxtend library aids in plotting good confusion matrix"
      ]
    },
    {
      "cell_type": "code",
      "metadata": {
        "colab": {
          "base_uri": "https://localhost:8080/"
        },
        "id": "ShBZfAxbbMO2",
        "outputId": "e03f028f-35df-40a7-b61d-a40e4cd06245"
      },
      "source": [
        "!pip install mlxtend==0.17.0"
      ],
      "execution_count": null,
      "outputs": [
        {
          "output_type": "stream",
          "text": [
            "Requirement already satisfied: mlxtend==0.17.0 in /usr/local/lib/python3.7/dist-packages (0.17.0)\n",
            "Requirement already satisfied: scipy>=1.2.1 in /usr/local/lib/python3.7/dist-packages (from mlxtend==0.17.0) (1.4.1)\n",
            "Requirement already satisfied: scikit-learn>=0.20.3 in /usr/local/lib/python3.7/dist-packages (from mlxtend==0.17.0) (0.22.2.post1)\n",
            "Requirement already satisfied: numpy>=1.16.2 in /usr/local/lib/python3.7/dist-packages (from mlxtend==0.17.0) (1.19.5)\n",
            "Requirement already satisfied: pandas>=0.24.2 in /usr/local/lib/python3.7/dist-packages (from mlxtend==0.17.0) (1.1.5)\n",
            "Requirement already satisfied: matplotlib>=3.0.0 in /usr/local/lib/python3.7/dist-packages (from mlxtend==0.17.0) (3.2.2)\n",
            "Requirement already satisfied: joblib>=0.13.2 in /usr/local/lib/python3.7/dist-packages (from mlxtend==0.17.0) (1.0.1)\n",
            "Requirement already satisfied: setuptools in /usr/local/lib/python3.7/dist-packages (from mlxtend==0.17.0) (57.0.0)\n",
            "Requirement already satisfied: python-dateutil>=2.7.3 in /usr/local/lib/python3.7/dist-packages (from pandas>=0.24.2->mlxtend==0.17.0) (2.8.1)\n",
            "Requirement already satisfied: pytz>=2017.2 in /usr/local/lib/python3.7/dist-packages (from pandas>=0.24.2->mlxtend==0.17.0) (2018.9)\n",
            "Requirement already satisfied: pyparsing!=2.0.4,!=2.1.2,!=2.1.6,>=2.0.1 in /usr/local/lib/python3.7/dist-packages (from matplotlib>=3.0.0->mlxtend==0.17.0) (2.4.7)\n",
            "Requirement already satisfied: cycler>=0.10 in /usr/local/lib/python3.7/dist-packages (from matplotlib>=3.0.0->mlxtend==0.17.0) (0.10.0)\n",
            "Requirement already satisfied: kiwisolver>=1.0.1 in /usr/local/lib/python3.7/dist-packages (from matplotlib>=3.0.0->mlxtend==0.17.0) (1.3.1)\n",
            "Requirement already satisfied: six>=1.5 in /usr/local/lib/python3.7/dist-packages (from python-dateutil>=2.7.3->pandas>=0.24.2->mlxtend==0.17.0) (1.15.0)\n"
          ],
          "name": "stdout"
        }
      ]
    },
    {
      "cell_type": "markdown",
      "metadata": {
        "id": "p5wCEkl-ezup"
      },
      "source": [
        "## Load Libraries"
      ]
    },
    {
      "cell_type": "code",
      "metadata": {
        "id": "uoII3CtocLzd"
      },
      "source": [
        "import tensorflow as tf\n",
        "from tensorflow import keras\n",
        "from tensorflow.keras import Sequential\n",
        "from tensorflow.keras.layers import Flatten,Dense,Conv2D,MaxPool2D,Dropout"
      ],
      "execution_count": null,
      "outputs": []
    },
    {
      "cell_type": "code",
      "metadata": {
        "colab": {
          "base_uri": "https://localhost:8080/",
          "height": 35
        },
        "id": "vVRGnLFkdeCu",
        "outputId": "ebec8eba-37c0-4017-eebb-bcd41cb73959"
      },
      "source": [
        "tf.__version__"
      ],
      "execution_count": null,
      "outputs": [
        {
          "output_type": "execute_result",
          "data": {
            "application/vnd.google.colaboratory.intrinsic+json": {
              "type": "string"
            },
            "text/plain": [
              "'2.5.0'"
            ]
          },
          "metadata": {
            "tags": []
          },
          "execution_count": 4
        }
      ]
    },
    {
      "cell_type": "code",
      "metadata": {
        "id": "cjHc_9-9epxY"
      },
      "source": [
        "import numpy as np\n",
        "import pandas as pd\n",
        "import matplotlib.pyplot as plt\n"
      ],
      "execution_count": null,
      "outputs": []
    },
    {
      "cell_type": "markdown",
      "metadata": {
        "id": "bKHccWsOeEtd"
      },
      "source": [
        "### Add Data"
      ]
    },
    {
      "cell_type": "code",
      "metadata": {
        "id": "8XXBuMArdg6Y"
      },
      "source": [
        "dataset= keras.datasets.cifar10"
      ],
      "execution_count": null,
      "outputs": []
    },
    {
      "cell_type": "code",
      "metadata": {
        "id": "nptuGdDBeDRI"
      },
      "source": [
        "(x_train,y_train),(x_test,y_test)=dataset.load_data()"
      ],
      "execution_count": null,
      "outputs": []
    },
    {
      "cell_type": "code",
      "metadata": {
        "colab": {
          "base_uri": "https://localhost:8080/"
        },
        "id": "hql9gPXNeOMF",
        "outputId": "92a01fef-9761-4349-e1c6-9bbfd4e84894"
      },
      "source": [
        "x_train.shape"
      ],
      "execution_count": null,
      "outputs": [
        {
          "output_type": "execute_result",
          "data": {
            "text/plain": [
              "(50000, 32, 32, 3)"
            ]
          },
          "metadata": {
            "tags": []
          },
          "execution_count": 8
        }
      ]
    },
    {
      "cell_type": "code",
      "metadata": {
        "colab": {
          "base_uri": "https://localhost:8080/"
        },
        "id": "1nT0xSaDeRr4",
        "outputId": "56b33c3c-1f71-42e5-91f8-d307a72cecac"
      },
      "source": [
        "y_train.shape"
      ],
      "execution_count": null,
      "outputs": [
        {
          "output_type": "execute_result",
          "data": {
            "text/plain": [
              "(50000, 1)"
            ]
          },
          "metadata": {
            "tags": []
          },
          "execution_count": 9
        }
      ]
    },
    {
      "cell_type": "code",
      "metadata": {
        "colab": {
          "base_uri": "https://localhost:8080/"
        },
        "id": "zDpK0aiueUBy",
        "outputId": "db269c17-2668-4859-c7bc-aa236ccf6b5c"
      },
      "source": [
        "np.max(x_train)"
      ],
      "execution_count": null,
      "outputs": [
        {
          "output_type": "execute_result",
          "data": {
            "text/plain": [
              "255"
            ]
          },
          "metadata": {
            "tags": []
          },
          "execution_count": 10
        }
      ]
    },
    {
      "cell_type": "code",
      "metadata": {
        "id": "LH_iVUCNeWVh"
      },
      "source": [
        "x_train=x_train/255\n",
        "x_test=x_test/255"
      ],
      "execution_count": null,
      "outputs": []
    },
    {
      "cell_type": "code",
      "metadata": {
        "id": "iZcFLUKMfJ-i"
      },
      "source": [
        "class_names=[\"airplane\",\"automobile\",\"bird\",\"cat\",\"deer\",\"dog\",\"frog\",\"horse\",\"ship\",\"truck\"]"
      ],
      "execution_count": null,
      "outputs": []
    },
    {
      "cell_type": "markdown",
      "metadata": {
        "id": "h8ZfN6FV-vYW"
      },
      "source": [
        "## Build Model"
      ]
    },
    {
      "cell_type": "code",
      "metadata": {
        "id": "7DX6Hhasfhag"
      },
      "source": [
        "model=Sequential()\n",
        "model.add(Conv2D(filters=32,kernel_size=(3,3),padding='same',activation='relu',input_shape=[32,32,3]))\n",
        "model.add(Conv2D(filters=32,kernel_size=(3,3),padding='same',activation='relu'))\n",
        "model.add(MaxPool2D(pool_size=(2,2),strides=2,padding='valid'))\n",
        "model.add(Dropout(0.5))\n",
        "\n",
        "model.add(Flatten())\n",
        "model.add(Dense(128,activation='relu'))\n",
        "model.add(Dense(10,activation='softmax'))"
      ],
      "execution_count": null,
      "outputs": []
    },
    {
      "cell_type": "code",
      "metadata": {
        "colab": {
          "base_uri": "https://localhost:8080/"
        },
        "id": "xkdqDq9_--Zh",
        "outputId": "c5f8befd-062b-4485-f163-b8c047926c32"
      },
      "source": [
        "model.summary()"
      ],
      "execution_count": null,
      "outputs": [
        {
          "output_type": "stream",
          "text": [
            "Model: \"sequential_4\"\n",
            "_________________________________________________________________\n",
            "Layer (type)                 Output Shape              Param #   \n",
            "=================================================================\n",
            "conv2d_4 (Conv2D)            (None, 32, 32, 32)        896       \n",
            "_________________________________________________________________\n",
            "conv2d_5 (Conv2D)            (None, 32, 32, 32)        9248      \n",
            "_________________________________________________________________\n",
            "max_pooling2d_1 (MaxPooling2 (None, 16, 16, 32)        0         \n",
            "_________________________________________________________________\n",
            "dropout_1 (Dropout)          (None, 16, 16, 32)        0         \n",
            "_________________________________________________________________\n",
            "flatten (Flatten)            (None, 8192)              0         \n",
            "_________________________________________________________________\n",
            "dense (Dense)                (None, 128)               1048704   \n",
            "_________________________________________________________________\n",
            "dense_1 (Dense)              (None, 10)                1290      \n",
            "=================================================================\n",
            "Total params: 1,060,138\n",
            "Trainable params: 1,060,138\n",
            "Non-trainable params: 0\n",
            "_________________________________________________________________\n"
          ],
          "name": "stdout"
        }
      ]
    },
    {
      "cell_type": "code",
      "metadata": {
        "id": "lGqGA8UgBxbQ"
      },
      "source": [
        "model.compile(optimizer='adam',loss=tf.keras.losses.sparse_categorical_crossentropy,metrics=[tf.keras.metrics.sparse_categorical_accuracy])"
      ],
      "execution_count": null,
      "outputs": []
    },
    {
      "cell_type": "code",
      "metadata": {
        "colab": {
          "base_uri": "https://localhost:8080/"
        },
        "id": "MgBqmOElCsk8",
        "outputId": "385da6ce-4877-42c6-c28e-d8a53c6b0e49"
      },
      "source": [
        "history=model.fit(x_train,y_train,batch_size=10,epochs=10,verbose=True,validation_split=0.2)"
      ],
      "execution_count": null,
      "outputs": [
        {
          "output_type": "stream",
          "text": [
            "Epoch 1/10\n",
            "4000/4000 [==============================] - 165s 41ms/step - loss: 1.3953 - sparse_categorical_accuracy: 0.4983 - val_loss: 1.1822 - val_sparse_categorical_accuracy: 0.5834\n",
            "Epoch 2/10\n",
            "4000/4000 [==============================] - 163s 41ms/step - loss: 1.0762 - sparse_categorical_accuracy: 0.6196 - val_loss: 0.9940 - val_sparse_categorical_accuracy: 0.6533\n",
            "Epoch 3/10\n",
            "4000/4000 [==============================] - 164s 41ms/step - loss: 0.9502 - sparse_categorical_accuracy: 0.6671 - val_loss: 0.9517 - val_sparse_categorical_accuracy: 0.6662\n",
            "Epoch 4/10\n",
            "4000/4000 [==============================] - 163s 41ms/step - loss: 0.8622 - sparse_categorical_accuracy: 0.6949 - val_loss: 0.9139 - val_sparse_categorical_accuracy: 0.6846\n",
            "Epoch 5/10\n",
            "4000/4000 [==============================] - 163s 41ms/step - loss: 0.7962 - sparse_categorical_accuracy: 0.7160 - val_loss: 0.9517 - val_sparse_categorical_accuracy: 0.6727\n",
            "Epoch 6/10\n",
            "4000/4000 [==============================] - 163s 41ms/step - loss: 0.7361 - sparse_categorical_accuracy: 0.7390 - val_loss: 0.9417 - val_sparse_categorical_accuracy: 0.6732\n",
            "Epoch 7/10\n",
            "4000/4000 [==============================] - 164s 41ms/step - loss: 0.6807 - sparse_categorical_accuracy: 0.7574 - val_loss: 0.9216 - val_sparse_categorical_accuracy: 0.6915\n",
            "Epoch 8/10\n",
            "4000/4000 [==============================] - 163s 41ms/step - loss: 0.6301 - sparse_categorical_accuracy: 0.7765 - val_loss: 0.9408 - val_sparse_categorical_accuracy: 0.6899\n",
            "Epoch 9/10\n",
            "4000/4000 [==============================] - 164s 41ms/step - loss: 0.5866 - sparse_categorical_accuracy: 0.7928 - val_loss: 0.9552 - val_sparse_categorical_accuracy: 0.6902\n",
            "Epoch 10/10\n",
            "4000/4000 [==============================] - 164s 41ms/step - loss: 0.5503 - sparse_categorical_accuracy: 0.8044 - val_loss: 1.0116 - val_sparse_categorical_accuracy: 0.6914\n"
          ],
          "name": "stdout"
        }
      ]
    },
    {
      "cell_type": "code",
      "metadata": {
        "colab": {
          "base_uri": "https://localhost:8080/"
        },
        "id": "NWCB8to0DAhg",
        "outputId": "95395ab8-fc66-4312-c7d0-9cd6417b4e78"
      },
      "source": [
        "loss,accuracy=model.evaluate(x_test,y_test)\n"
      ],
      "execution_count": null,
      "outputs": [
        {
          "output_type": "stream",
          "text": [
            "313/313 [==============================] - 8s 25ms/step - loss: 1.0227 - sparse_categorical_accuracy: 0.6847\n"
          ],
          "name": "stdout"
        },
        {
          "output_type": "stream",
          "text": [
            "/usr/local/lib/python3.7/dist-packages/tensorflow/python/keras/engine/sequential.py:455: UserWarning: `model.predict_classes()` is deprecated and will be removed after 2021-01-01. Please use instead:* `np.argmax(model.predict(x), axis=-1)`,   if your model does multi-class classification   (e.g. if it uses a `softmax` last-layer activation).* `(model.predict(x) > 0.5).astype(\"int32\")`,   if your model does binary classification   (e.g. if it uses a `sigmoid` last-layer activation).\n",
            "  warnings.warn('`model.predict_classes()` is deprecated and '\n"
          ],
          "name": "stderr"
        }
      ]
    },
    {
      "cell_type": "code",
      "metadata": {
        "colab": {
          "base_uri": "https://localhost:8080/"
        },
        "id": "N9NRgAtcLPXT",
        "outputId": "92b92b61-0aca-4ceb-94e1-ba88cc53ef68"
      },
      "source": [
        "history.history"
      ],
      "execution_count": null,
      "outputs": [
        {
          "output_type": "execute_result",
          "data": {
            "text/plain": [
              "{'loss': [1.3953498601913452,\n",
              "  1.0761735439300537,\n",
              "  0.9501578211784363,\n",
              "  0.8622178435325623,\n",
              "  0.7962294220924377,\n",
              "  0.7360683679580688,\n",
              "  0.6807258129119873,\n",
              "  0.6301170587539673,\n",
              "  0.5865521430969238,\n",
              "  0.5502578616142273],\n",
              " 'sparse_categorical_accuracy': [0.4982999861240387,\n",
              "  0.6195999979972839,\n",
              "  0.667074978351593,\n",
              "  0.6948500275611877,\n",
              "  0.7160000205039978,\n",
              "  0.7390499711036682,\n",
              "  0.7573750019073486,\n",
              "  0.7764999866485596,\n",
              "  0.7928000092506409,\n",
              "  0.8044250011444092],\n",
              " 'val_loss': [1.1821595430374146,\n",
              "  0.9939923882484436,\n",
              "  0.951667308807373,\n",
              "  0.9138538241386414,\n",
              "  0.9516527056694031,\n",
              "  0.941683292388916,\n",
              "  0.9216210842132568,\n",
              "  0.9407808780670166,\n",
              "  0.9552437663078308,\n",
              "  1.0116264820098877],\n",
              " 'val_sparse_categorical_accuracy': [0.5834000110626221,\n",
              "  0.6532999873161316,\n",
              "  0.6661999821662903,\n",
              "  0.6845999956130981,\n",
              "  0.6726999878883362,\n",
              "  0.6732000112533569,\n",
              "  0.6915000081062317,\n",
              "  0.6898999810218811,\n",
              "  0.6901999711990356,\n",
              "  0.6913999915122986]}"
            ]
          },
          "metadata": {
            "tags": []
          },
          "execution_count": 32
        }
      ]
    },
    {
      "cell_type": "markdown",
      "metadata": {
        "id": "skCL4MKgIGTm"
      },
      "source": [
        "### Plotting the results"
      ]
    },
    {
      "cell_type": "code",
      "metadata": {
        "colab": {
          "base_uri": "https://localhost:8080/",
          "height": 295
        },
        "id": "eZe2w-MBIJQE",
        "outputId": "7b2c6a70-51c3-4f85-b3c2-f093765d81cd"
      },
      "source": [
        "plt.plot(history.history[\"sparse_categorical_accuracy\"])\n",
        "plt.plot(history.history[\"val_sparse_categorical_accuracy\"])\n",
        "plt.legend(['train','Val'])\n",
        "plt.title(\"Accuracy curve\")\n",
        "plt.xlabel(\"Epochs\")\n",
        "plt.ylabel(\"Accuracy\")\n",
        "plt.show()"
      ],
      "execution_count": null,
      "outputs": [
        {
          "output_type": "display_data",
          "data": {
            "image/png": "[encoded data removed]",
            "text/plain": [
              "<Figure size 432x288 with 1 Axes>"
            ]
          },
          "metadata": {
            "tags": [],
            "needs_background": "light"
          }
        }
      ]
    },
    {
      "cell_type": "code",
      "metadata": {
        "colab": {
          "base_uri": "https://localhost:8080/",
          "height": 295
        },
        "id": "0Z-i1CPVJPt2",
        "outputId": "e2e821bb-05e6-4e7a-aec4-b6c398f1348e"
      },
      "source": [
        "plt.plot(history.history[\"loss\"])\n",
        "plt.legend(['train','Val'])\n",
        "plt.plot(history.history[\"val_loss\"])\n",
        "plt.title(\"Loss curve\")\n",
        "plt.xlabel(\"Epochs\")\n",
        "plt.ylabel(\"Loss\")\n",
        "plt.show()"
      ],
      "execution_count": null,
      "outputs": [
        {
          "output_type": "display_data",
          "data": {
            "image/png": "[encoded data removed]",
            "text/plain": [
              "<Figure size 432x288 with 1 Axes>"
            ]
          },
          "metadata": {
            "tags": [],
            "needs_background": "light"
          }
        }
      ]
    },
    {
      "cell_type": "markdown",
      "metadata": {
        "id": "8rLV-CZhJXWF"
      },
      "source": [
        "## Confusion Matrix"
      ]
    },
    {
      "cell_type": "code",
      "metadata": {
        "id": "NQvmyPRVJZJE"
      },
      "source": [
        "from mlxtend.plotting import plot_confusion_matrix\n",
        "from sklearn.metrics import confusion_matrix"
      ],
      "execution_count": null,
      "outputs": []
    },
    {
      "cell_type": "code",
      "metadata": {
        "colab": {
          "base_uri": "https://localhost:8080/",
          "height": 531
        },
        "id": "Jp3BcM5_Jlz0",
        "outputId": "d9fb8111-cfee-45f0-c2db-1a0018e76602"
      },
      "source": [
        "mat=confusion_matrix(y_test,y_pred)\n",
        "plot_confusion_matrix(mat,figsize=(8,8))"
      ],
      "execution_count": null,
      "outputs": [
        {
          "output_type": "execute_result",
          "data": {
            "text/plain": [
              "(<Figure size 576x576 with 1 Axes>,\n",
              " <matplotlib.axes._subplots.AxesSubplot at 0x7fd05b457c90>)"
            ]
          },
          "metadata": {
            "tags": []
          },
          "execution_count": 41
        },
        {
          "output_type": "display_data",
          "data": {
            "image/png": "[encoded data removed]",
            "text/plain": [
              "<Figure size 576x576 with 1 Axes>"
            ]
          },
          "metadata": {
            "tags": [],
            "needs_background": "light"
          }
        }
      ]
    },
    {
      "cell_type": "code",
      "metadata": {
        "id": "lmNDWiXxMAd0"
      },
      "source": [
        ""
      ],
      "execution_count": null,
      "outputs": []
    }
  ]
}